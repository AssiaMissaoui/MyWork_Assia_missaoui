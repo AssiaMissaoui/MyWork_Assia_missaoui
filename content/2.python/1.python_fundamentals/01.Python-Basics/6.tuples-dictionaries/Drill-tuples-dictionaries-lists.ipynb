{
 "cells": [
  {
   "cell_type": "markdown",
   "metadata": {},
   "source": [
    "# Drill : Lists, Tuples, Dictionaries"
   ]
  },
  {
   "cell_type": "markdown",
   "metadata": {},
   "source": [
    "### 1. Choose 5 words from the English language and create  dictionaries that associates each of these words with its French translation."
   ]
  },
  {
   "cell_type": "code",
   "execution_count": 1,
   "metadata": {},
   "outputs": [
    {
     "name": "stdout",
     "output_type": "stream",
     "text": [
      "{'going': 'aller', 'can': 'pouvoir', 'doing': 'faire'}\n"
     ]
    }
   ],
   "source": [
    "english = {}\n",
    "english[\"going\"] = \"aller\"\n",
    "english[\"can\"] = \"pouvoir\"\n",
    "english[\"doing\"] = \"faire\"\n",
    "print(english)"
   ]
  },
  {
   "cell_type": "markdown",
   "metadata": {},
   "source": [
    "### 2. Add an entry to the dictionary of the previous question (a new word and its definition)."
   ]
  },
  {
   "cell_type": "code",
   "execution_count": 2,
   "metadata": {},
   "outputs": [
    {
     "name": "stdout",
     "output_type": "stream",
     "text": [
      "{'going': 'aller', 'can': 'pouvoir', 'doing': 'faire', 'sleeping': 'dormir'}\n"
     ]
    }
   ],
   "source": [
    "english[\"sleeping\"] = \"dormir\"\n",
    "print(english)"
   ]
  },
  {
   "cell_type": "markdown",
   "metadata": {},
   "source": [
    "### 3. How would you cut the following string at each space and put it in a list?"
   ]
  },
  {
   "cell_type": "code",
   "execution_count": 5,
   "metadata": {},
   "outputs": [
    {
     "data": {
      "text/plain": [
       "['I', 'am', 'the', 'master', 'of', 'the', 'world']"
      ]
     },
     "execution_count": 5,
     "metadata": {},
     "output_type": "execute_result"
    }
   ],
   "source": [
    "sentence = \"I am the master of the world\"\n",
    "sentence.split()"
   ]
  },
  {
   "cell_type": "markdown",
   "metadata": {},
   "source": [
    "### 4. Transform this string \"The_universal_number_is_42\" by removing the underscores: \"The universal number is 42\""
   ]
  },
  {
   "cell_type": "code",
   "execution_count": 9,
   "metadata": {},
   "outputs": [
    {
     "name": "stdout",
     "output_type": "stream",
     "text": [
      "The universal number is 42\n"
     ]
    }
   ],
   "source": [
    "universal_number = \"The_universal_number_is_42\"\n",
    "universal_number = universal_number.replace(\"The_universal_number_is_42\",\"The universal number is 42\")\n",
    "print(universal_number)"
   ]
  },
  {
   "cell_type": "markdown",
   "metadata": {},
   "source": [
    "### 5. Display only values of this dictionary."
   ]
  },
  {
   "cell_type": "code",
   "execution_count": 12,
   "metadata": {},
   "outputs": [
    {
     "name": "stdout",
     "output_type": "stream",
     "text": [
      "Clark Kent\n",
      "Bruce Wayne\n",
      "Tony Parker\n"
     ]
    }
   ],
   "source": [
    "heroes = {\"Superman\": \"Clark Kent\", \"Batman\": \"Bruce Wayne\", \"Spiderman\": \"Tony Parker\"}\n",
    "print(heroes[\"Superman\"])\n",
    "print(heroes[\"Batman\"])\n",
    "print(heroes[\"Spiderman\"])"
   ]
  },
  {
   "cell_type": "markdown",
   "metadata": {},
   "source": [
    "### 6. Display only keys of this dictionary."
   ]
  },
  {
   "cell_type": "code",
   "execution_count": 13,
   "metadata": {},
   "outputs": [
    {
     "name": "stdout",
     "output_type": "stream",
     "text": [
      "dict_keys(['Superman', 'Batman', 'Spiderman'])\n"
     ]
    }
   ],
   "source": [
    "heroes = {\"Superman\": \"Clark Kent\", \"Batman\": \"Bruce Wayne\", \"Spiderman\": \"Tony Parker\"}\n",
    "print(heroes.keys())"
   ]
  },
  {
   "cell_type": "markdown",
   "metadata": {},
   "source": [
    "### 7. Replace the value of  \"Spiderman\" by \"Peter Parker\"."
   ]
  },
  {
   "cell_type": "code",
   "execution_count": 27,
   "metadata": {},
   "outputs": [
    {
     "name": "stdout",
     "output_type": "stream",
     "text": [
      "{'Superman': 'Clark Kent', 'Batman': 'Bruce Wayne', 'Spiderman': 'Peter Parker'}\n"
     ]
    }
   ],
   "source": [
    "heroes = {\"Superman\": \"Clark Kent\", \"Batman\": \"Bruce Wayne\", \"Spiderman\": \"Tony Parker\"}\n",
    "heroes.update(Spiderman = \"Peter Parker\")\n",
    "print(heroes)"
   ]
  },
  {
   "cell_type": "markdown",
   "metadata": {},
   "source": [
    "### 8. Create a dictionary to build the price base of the products corresponding to the following table.\n",
    "\n",
    "    Laser sword // 229.0\n",
    "    Mitendo DX // 127.30\n",
    "    Linux cushion // 74.50\n",
    "    Goldorak briefs // 29.90\n",
    "    Nextpresso station // 184.60"
   ]
  },
  {
   "cell_type": "code",
   "execution_count": null,
   "metadata": {},
   "outputs": [],
   "source": []
  },
  {
   "cell_type": "markdown",
   "metadata": {},
   "source": [
    "### 9. Calculate the total price of the items of the dictionary."
   ]
  },
  {
   "cell_type": "code",
   "execution_count": null,
   "metadata": {},
   "outputs": [],
   "source": []
  },
  {
   "cell_type": "markdown",
   "metadata": {},
   "source": [
    "### 10. Remove one of the articles from the dictionary."
   ]
  },
  {
   "cell_type": "code",
   "execution_count": null,
   "metadata": {},
   "outputs": [],
   "source": []
  },
  {
   "cell_type": "markdown",
   "metadata": {},
   "source": [
    "## [Next one](../7.loops-and-iterations/loops-and-iterations.ipynb)"
   ]
  }
 ],
 "metadata": {
  "kernelspec": {
   "display_name": "Python 3",
   "language": "python",
   "name": "python3"
  },
  "language_info": {
   "codemirror_mode": {
    "name": "ipython",
    "version": 3
   },
   "file_extension": ".py",
   "mimetype": "text/x-python",
   "name": "python",
   "nbconvert_exporter": "python",
   "pygments_lexer": "ipython3",
   "version": "3.9.7"
  }
 },
 "nbformat": 4,
 "nbformat_minor": 2
}
